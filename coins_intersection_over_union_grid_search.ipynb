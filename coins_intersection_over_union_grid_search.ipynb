{
 "cells": [
  {
   "cell_type": "code",
   "execution_count": 38,
   "metadata": {},
   "outputs": [],
   "source": [
    "import cv2\n",
    "import numpy as np\n",
    "from matplotlib import pyplot as plt\n",
    "%matplotlib inline\n",
    "import pandas as pd\n",
    "from sklearn.cluster import AgglomerativeClustering\n",
    "import scipy.stats as stats\n",
    "import os\n",
    "import math\n",
    "from tqdm import tqdm"
   ]
  },
  {
   "cell_type": "code",
   "execution_count": 39,
   "metadata": {},
   "outputs": [],
   "source": [
    "''' функция для получения списка файлов из папки\n",
    "'''\n",
    "def files(path):\n",
    "    for file in os.listdir(path):\n",
    "        if os.path.isfile(os.path.join(path, file)):\n",
    "            yield file"
   ]
  },
  {
   "cell_type": "code",
   "execution_count": 40,
   "metadata": {},
   "outputs": [],
   "source": [
    "''' предобработка изображения:\n",
    "1. изменение цветовой системы с BGR на GRAY\n",
    "2. размытие изображения\n",
    "3. поиск контуров на изображении\n",
    "4. изменение цветовой системы полученного изображения на двухцветную\n",
    "5. удаление внутренних/внешних мелких деталий\n",
    "'''\n",
    "def preprocess(image, canny1, canny2):\n",
    "    img_gray = cv2.cvtColor(image, cv2.COLOR_BGR2GRAY)\n",
    "    img_blur = cv2.GaussianBlur(img_gray, (15,15), 0)\n",
    "    img_canny = cv2.Canny(image, canny1, canny2)\n",
    "    tresh, img_bin = cv2.threshold(img_canny, 127, 255, cv2.THRESH_BINARY)\n",
    "    kernel = np.ones((5,5),np.uint8)\n",
    "    img_close = cv2.morphologyEx(img_bin, cv2.MORPH_CLOSE, kernel)\n",
    "    img_open = cv2.morphologyEx(img_close, cv2.MORPH_OPEN, kernel)\n",
    "    return img_open"
   ]
  },
  {
   "cell_type": "code",
   "execution_count": 41,
   "metadata": {},
   "outputs": [],
   "source": [
    "''' нанесение найденных окружностей на изображение\n",
    "'''\n",
    "def show_circles(df_circles, image):\n",
    "    for i in range(len(df_circles)):\n",
    "        circle = df_circles.iloc[i]\n",
    "        [x_center,y_center,radius] = circle[['x_center','y_center','radius']]\n",
    "        cv2.circle(image, (int(x_center), int(y_center)), int(radius), (0, 255, 0), 2)\n",
    "        cv2.circle(image,(int(x_center), int(y_center)),2,(0,0,255),3)\n",
    "    return image"
   ]
  },
  {
   "cell_type": "code",
   "execution_count": 42,
   "metadata": {},
   "outputs": [],
   "source": [
    "''' удаление окружностей по следующим принципам:\n",
    "1. не входит во 2/3 квантиль по радиусу\n",
    "2. выходит за пределы изображения\n",
    "'''\n",
    "def check_size(df_circles, sh):\n",
    "    \n",
    "    lower_bound = df_circles.radius.quantile(q=0.25)\n",
    "    upper_bound = df_circles.radius.quantile(q=0.75)\n",
    "    df_circles = df_circles[(df_circles.radius >= lower_bound) & (df_circles.radius <= upper_bound)]\n",
    "    \n",
    "    df_circles['max_x'] = df_circles['x_center'] + df_circles['radius']\n",
    "    df_circles['min_x'] = df_circles['x_center'] - df_circles['radius']\n",
    "    df_circles['max_y'] = df_circles['y_center'] + df_circles['radius']\n",
    "    df_circles['min_y'] = df_circles['y_center'] - df_circles['radius']\n",
    "     \n",
    "    df_circles = df_circles[((df_circles['max_x']<=sh[1])*1+(df_circles['min_x']>=0)*1+(df_circles['max_y']<=sh[0])*1+(df_circles['min_y']>=0)*1) == 4]\n",
    "\n",
    "    return df_circles[['x_center','y_center','radius']]"
   ]
  },
  {
   "cell_type": "code",
   "execution_count": 43,
   "metadata": {},
   "outputs": [],
   "source": [
    "''' функция для определения характеристики IoU\n",
    "'''\n",
    "def bb_intersection_over_union(boxA, boxB):\n",
    "\txA = max(boxA[0], boxB[0])\n",
    "\tyA = max(boxA[1], boxB[1])\n",
    "\txB = min(boxA[2], boxB[2])\n",
    "\tyB = min(boxA[3], boxB[3])\n",
    "\tinterArea = max(0, xB - xA + 1) * max(0, yB - yA + 1)\n",
    "\tboxAArea = (boxA[2] - boxA[0] + 1) * (boxA[3] - boxA[1] + 1)\n",
    "\tboxBArea = (boxB[2] - boxB[0] + 1) * (boxB[3] - boxB[1] + 1)\n",
    "\tiou = interArea / float(boxAArea + boxBArea - interArea)\n",
    "\treturn iou"
   ]
  },
  {
   "cell_type": "code",
   "execution_count": 44,
   "metadata": {},
   "outputs": [],
   "source": [
    "''' удаление окружностей, имеющих высокую оценку по IoU\n",
    "'''\n",
    "def non_max_supression(df_circles):\n",
    "    df_circles['xA'] = 0\n",
    "    df_circles['yA'] = 0\n",
    "    df_circles['xB'] = 0\n",
    "    df_circles['yB'] = 0\n",
    "\n",
    "    for i in range(len(df_circles)):\n",
    "        c = df_circles.iloc[i]\n",
    "        df_circles['xA'].iloc[i] = c.x_center - c.radius\n",
    "        df_circles['yA'].iloc[i] = c.y_center - c.radius\n",
    "        df_circles['xB'].iloc[i] = c.x_center + c.radius\n",
    "        df_circles['yB'].iloc[i] = c.y_center + c.radius\n",
    "\n",
    "    list_circles = [0]\n",
    "    for i in range(1,len(df_circles)):\n",
    "        df_list_circles = df_circles.iloc[list_circles]\n",
    "        counter=0\n",
    "        for j in range(len(df_list_circles)):\n",
    "            circle1=df_circles.iloc[i]\n",
    "            circle2=df_circles.iloc[j]\n",
    "            boxA=[circle1['xA'], circle1['yA'], circle1['xB'], circle1['yB']]\n",
    "            boxB=[circle2['xA'], circle2['yA'], circle2['xB'], circle2['yB']]\n",
    "            if bb_intersection_over_union(boxA, boxB)>0.1:\n",
    "                counter=counter+1\n",
    "        if counter==0:\n",
    "            list_circles.append(i)\n",
    "\n",
    "    df_circles=df_circles.iloc[list_circles]\n",
    "\n",
    "    return df_circles"
   ]
  },
  {
   "cell_type": "code",
   "execution_count": 45,
   "metadata": {},
   "outputs": [],
   "source": [
    "''' матчинг найденной окружности с заданными в описании\n",
    "'''\n",
    "\n",
    "def match(circle1,circle2,tresh):\n",
    "    if np.abs(circle1.x_center-circle2.x_center)<tresh and np.abs(circle1.y_center-circle2.y_center)<tresh and np.abs(circle1.radius-circle2.radius)<tresh:\n",
    "        result = 1\n",
    "    else:\n",
    "        result =0\n",
    "    return result"
   ]
  },
  {
   "cell_type": "code",
   "execution_count": 46,
   "metadata": {},
   "outputs": [],
   "source": [
    "''' получение метрик по предсказанию:\n",
    "1. кол-во true positive\n",
    "2. кол-во false negative\n",
    "1. кол-во false positive\n",
    "'''\n",
    "\n",
    "def get_metrics(file,df_true,result_circles):\n",
    "    trues = df_true[df_true.pic==file]\n",
    "    preds = result_circles[result_circles.pic==file]\n",
    "    trues['match'] = 0\n",
    "    for i in range(len(trues)):\n",
    "        for j in range(len(preds)):\n",
    "            circle1 = trues.iloc[i]\n",
    "            circle2 = preds.iloc[j]\n",
    "            if match(circle1,circle2,20)==1:\n",
    "                trues['match'].iloc[i]=1\n",
    "    tp = len(trues[trues['match']==1])\n",
    "    fn = len(trues[trues['match']==0])\n",
    "    fp = len(preds) - len(trues[trues['match']==1])\n",
    "    return tp, fn, fp"
   ]
  },
  {
   "cell_type": "code",
   "execution_count": 47,
   "metadata": {},
   "outputs": [],
   "source": [
    "''' полный процесс получения изображений с предсказанными окружностями и файла с оценкой качества предсказаний:\n",
    "1. чтение изображения из фала\n",
    "2. предобработка файла\n",
    "3. поиск окружностей на изображении\n",
    "4. проверка размера окружностей\n",
    "5. удаление пересекающихся окружностей\n",
    "6. отрисовка окружностей\n",
    "7. запись изображений с предсказанными окружностями\n",
    "8. подсчет метрик\n",
    "'''\n",
    "def full_process(src_path, descr_path, canny1, canny2, hough1, hough2):\n",
    "    path = src_path\n",
    "    data = {'x_center': [], 'y_center': [], 'radius': [], 'pic': []}\n",
    "    result_circles = pd.DataFrame(data)\n",
    "\n",
    "    for file in files(path):\n",
    "        image_path = f'{path}/{file}'\n",
    "        result_path = f'{path}/res'\n",
    "        image = cv2.imread(image_path)\n",
    "        sh = image.shape\n",
    "        img_preprocessed = preprocess(image, canny1=canny1, canny2=canny2)\n",
    "        circles = cv2.HoughCircles(img_preprocessed, cv2.HOUGH_GRADIENT,1, 50, param1=hough1, param2=hough2, minRadius=50, maxRadius=500)\n",
    "\n",
    "        try:\n",
    "            df_circles = pd.DataFrame(circles[0,:].T[:3].T).rename(columns={0: \"x_center\", 1: \"y_center\", 2: \"radius\"})\n",
    "            df_circles = check_size(df_circles, sh) \n",
    "            df_circles = non_max_supression(df_circles)\n",
    "            \n",
    "            df_circles['pic'] = str(file)\n",
    "            result_circles = pd.concat([result_circles,df_circles])   \n",
    "            img_circle = show_circles(df_circles, image)\n",
    "            os.chdir(result_path)\n",
    "            cv2.imwrite(file, img_circle)\n",
    "        except:\n",
    "            print(file)\n",
    "\n",
    "    df_true = pd.read_csv(descr_path, sep=\",\", names=['pic','x_center','y_center','radius'])\n",
    "\n",
    "    data = {'pic': [], 'tp': [], 'fn': [], 'fp': []}\n",
    "    result =  pd.DataFrame(data)\n",
    "                            \n",
    "    for file in files(path):\n",
    "        tp, fn, fp = get_metrics(file, df_true, result_circles)\n",
    "        data = {'pic': [file], 'tp': [tp], 'fn': [fn], 'fp': [fp]}\n",
    "        file_result =  pd.DataFrame(data)\n",
    "        result = pd.concat([result,file_result])\n",
    "        result['recall'] = result['tp']/( result['tp']+ result['fn'])\n",
    "        result['precision'] = result['tp']/( result['tp']+ result['fp'])\n",
    "        result['f1'] = 2*result['recall']*result['precision']/(result['recall']+result['precision'])\n",
    "        result = result[(result['tp']+result['fn']+result['fp'])>0]\n",
    "\n",
    "    return result\n",
    "\n",
    "    "
   ]
  },
  {
   "cell_type": "code",
   "execution_count": null,
   "metadata": {},
   "outputs": [],
   "source": [
    "path = \"C:/find_coins/coins\"\n",
    "descr_path = f'C:/find_coins/circles_description.txt'\n",
    "result = full_process(path, descr_path, 10, 120, 300, 7)\n",
    "f1_mean = np.mean(result.sort_values(by='f1',ascending=False)['f1'])"
   ]
  },
  {
   "cell_type": "code",
   "execution_count": 50,
   "metadata": {},
   "outputs": [
    {
     "name": "stdout",
     "output_type": "stream",
     "text": [
      "Total average F1 score: 0.8411111111111111\n"
     ]
    }
   ],
   "source": [
    "''' вывод метрики f1 по 10ти изображениям\n",
    "'''\n",
    "print('Total average F1 score:', f1_mean)"
   ]
  },
  {
   "cell_type": "code",
   "execution_count": null,
   "metadata": {},
   "outputs": [],
   "source": [
    "''' \n",
    "# grid search для поиска оптимальных параметров функции cv2.Canny и cv2.HoughCircle\n",
    "\n",
    "canny1_list = []\n",
    "canny2_list = []\n",
    "hough1_list = []\n",
    "hough2_list = []\n",
    "f1_list = []\n",
    "\n",
    "for canny1 in range(10,30,10):\n",
    "    for canny2 in range(80,130,20):\n",
    "        for hough1 in range(250,350,50):\n",
    "            for hough2 in range(1,25,3):\n",
    "                f1 = full_process(path, descr_path, canny1, canny2, hough1, hough2)\n",
    "                canny1_list.append(canny1)\n",
    "                canny2_list.append(canny2)\n",
    "                hough1_list.append(hough1)\n",
    "                hough2_list.append(hough2)\n",
    "                f1_list.append(f1)\n",
    "\n",
    "data = {'canny1': canny1_list, 'canny2': canny2_list, 'hough1': hough1_list, 'hough2': hough2_list, 'hough2': hough2_list,'f1': f1_list}\n",
    "df = pd.DataFrame(data)\n",
    "\n",
    "'''"
   ]
  }
 ],
 "metadata": {
  "kernelspec": {
   "display_name": "Python 3",
   "language": "python",
   "name": "python3"
  },
  "language_info": {
   "codemirror_mode": {
    "name": "ipython",
    "version": 3
   },
   "file_extension": ".py",
   "mimetype": "text/x-python",
   "name": "python",
   "nbconvert_exporter": "python",
   "pygments_lexer": "ipython3",
   "version": "3.11.1"
  },
  "orig_nbformat": 4
 },
 "nbformat": 4,
 "nbformat_minor": 2
}
